{
  "cells": [
    {
      "cell_type": "code",
      "execution_count": 6,
      "metadata": {
        "id": "d69ccffc"
      },
      "outputs": [],
      "source": [
        "import pandas as pd\n",
        "import numpy as np\n",
        "import matplotlib.pyplot as plt\n",
        "import seaborn as sns"
      ],
      "id": "d69ccffc"
    },
    {
      "cell_type": "code",
      "execution_count": 7,
      "metadata": {
        "id": "1d0ce2ee"
      },
      "outputs": [],
      "source": [
        "dataframe = pd.read_csv('/Electric_Vehicle_Population_Data (1).csv')"
      ],
      "id": "1d0ce2ee"
    },
    {
      "cell_type": "code",
      "execution_count": 8,
      "metadata": {
        "id": "dd13ff72",
        "colab": {
          "base_uri": "https://localhost:8080/",
          "height": 712
        },
        "outputId": "305fb6bd-0989-4888-dc06-426b27c8af8a"
      },
      "outputs": [
        {
          "output_type": "execute_result",
          "data": {
            "text/plain": [
              "   VIN (1-10)    County       City State  Postal Code  Model Year    Make  \\\n",
              "0  5YJYGDEF5L  Thurston      Lacey    WA      98516.0        2020   TESLA   \n",
              "1  1N4BZ1CP1K      King  Sammamish    WA      98074.0        2019  NISSAN   \n",
              "2  5YJXCDE28G      King       Kent    WA      98031.0        2016   TESLA   \n",
              "3  JHMZC5F37M    Kitsap    Poulsbo    WA      98370.0        2021   HONDA   \n",
              "4  WA1F2AFY4P  Thurston    Olympia    WA      98501.0        2023    AUDI   \n",
              "\n",
              "     Model                   Electric Vehicle Type  \\\n",
              "0  MODEL Y          Battery Electric Vehicle (BEV)   \n",
              "1     LEAF          Battery Electric Vehicle (BEV)   \n",
              "2  MODEL X          Battery Electric Vehicle (BEV)   \n",
              "3  CLARITY  Plug-in Hybrid Electric Vehicle (PHEV)   \n",
              "4     Q5 E  Plug-in Hybrid Electric Vehicle (PHEV)   \n",
              "\n",
              "  Clean Alternative Fuel Vehicle (CAFV) Eligibility  Electric Range  \\\n",
              "0           Clean Alternative Fuel Vehicle Eligible             291   \n",
              "1           Clean Alternative Fuel Vehicle Eligible             150   \n",
              "2           Clean Alternative Fuel Vehicle Eligible             200   \n",
              "3           Clean Alternative Fuel Vehicle Eligible              47   \n",
              "4             Not eligible due to low battery range              23   \n",
              "\n",
              "   Base MSRP  Legislative District  DOL Vehicle ID  \\\n",
              "0          0                  22.0       124535071   \n",
              "1          0                  45.0       102359449   \n",
              "2          0                  33.0       228682037   \n",
              "3          0                  23.0       171566447   \n",
              "4          0                  22.0       234923230   \n",
              "\n",
              "                  Vehicle Location  \\\n",
              "0  POINT (-122.7474291 47.0821119)   \n",
              "1  POINT (-122.0313266 47.6285782)   \n",
              "2  POINT (-122.2012521 47.3931814)   \n",
              "3     POINT (-122.64177 47.737525)   \n",
              "4     POINT (-122.89692 47.043535)   \n",
              "\n",
              "                                Electric Utility  2020 Census Tract  \n",
              "0                         PUGET SOUND ENERGY INC       5.306701e+10  \n",
              "1  PUGET SOUND ENERGY INC||CITY OF TACOMA - (WA)       5.303303e+10  \n",
              "2  PUGET SOUND ENERGY INC||CITY OF TACOMA - (WA)       5.303303e+10  \n",
              "3                         PUGET SOUND ENERGY INC       5.303509e+10  \n",
              "4                         PUGET SOUND ENERGY INC       5.306701e+10  "
            ],
            "text/html": [
              "\n",
              "  <div id=\"df-ab898d17-d6a8-4969-bf25-a37241e2cf5f\" class=\"colab-df-container\">\n",
              "    <div>\n",
              "<style scoped>\n",
              "    .dataframe tbody tr th:only-of-type {\n",
              "        vertical-align: middle;\n",
              "    }\n",
              "\n",
              "    .dataframe tbody tr th {\n",
              "        vertical-align: top;\n",
              "    }\n",
              "\n",
              "    .dataframe thead th {\n",
              "        text-align: right;\n",
              "    }\n",
              "</style>\n",
              "<table border=\"1\" class=\"dataframe\">\n",
              "  <thead>\n",
              "    <tr style=\"text-align: right;\">\n",
              "      <th></th>\n",
              "      <th>VIN (1-10)</th>\n",
              "      <th>County</th>\n",
              "      <th>City</th>\n",
              "      <th>State</th>\n",
              "      <th>Postal Code</th>\n",
              "      <th>Model Year</th>\n",
              "      <th>Make</th>\n",
              "      <th>Model</th>\n",
              "      <th>Electric Vehicle Type</th>\n",
              "      <th>Clean Alternative Fuel Vehicle (CAFV) Eligibility</th>\n",
              "      <th>Electric Range</th>\n",
              "      <th>Base MSRP</th>\n",
              "      <th>Legislative District</th>\n",
              "      <th>DOL Vehicle ID</th>\n",
              "      <th>Vehicle Location</th>\n",
              "      <th>Electric Utility</th>\n",
              "      <th>2020 Census Tract</th>\n",
              "    </tr>\n",
              "  </thead>\n",
              "  <tbody>\n",
              "    <tr>\n",
              "      <th>0</th>\n",
              "      <td>5YJYGDEF5L</td>\n",
              "      <td>Thurston</td>\n",
              "      <td>Lacey</td>\n",
              "      <td>WA</td>\n",
              "      <td>98516.0</td>\n",
              "      <td>2020</td>\n",
              "      <td>TESLA</td>\n",
              "      <td>MODEL Y</td>\n",
              "      <td>Battery Electric Vehicle (BEV)</td>\n",
              "      <td>Clean Alternative Fuel Vehicle Eligible</td>\n",
              "      <td>291</td>\n",
              "      <td>0</td>\n",
              "      <td>22.0</td>\n",
              "      <td>124535071</td>\n",
              "      <td>POINT (-122.7474291 47.0821119)</td>\n",
              "      <td>PUGET SOUND ENERGY INC</td>\n",
              "      <td>5.306701e+10</td>\n",
              "    </tr>\n",
              "    <tr>\n",
              "      <th>1</th>\n",
              "      <td>1N4BZ1CP1K</td>\n",
              "      <td>King</td>\n",
              "      <td>Sammamish</td>\n",
              "      <td>WA</td>\n",
              "      <td>98074.0</td>\n",
              "      <td>2019</td>\n",
              "      <td>NISSAN</td>\n",
              "      <td>LEAF</td>\n",
              "      <td>Battery Electric Vehicle (BEV)</td>\n",
              "      <td>Clean Alternative Fuel Vehicle Eligible</td>\n",
              "      <td>150</td>\n",
              "      <td>0</td>\n",
              "      <td>45.0</td>\n",
              "      <td>102359449</td>\n",
              "      <td>POINT (-122.0313266 47.6285782)</td>\n",
              "      <td>PUGET SOUND ENERGY INC||CITY OF TACOMA - (WA)</td>\n",
              "      <td>5.303303e+10</td>\n",
              "    </tr>\n",
              "    <tr>\n",
              "      <th>2</th>\n",
              "      <td>5YJXCDE28G</td>\n",
              "      <td>King</td>\n",
              "      <td>Kent</td>\n",
              "      <td>WA</td>\n",
              "      <td>98031.0</td>\n",
              "      <td>2016</td>\n",
              "      <td>TESLA</td>\n",
              "      <td>MODEL X</td>\n",
              "      <td>Battery Electric Vehicle (BEV)</td>\n",
              "      <td>Clean Alternative Fuel Vehicle Eligible</td>\n",
              "      <td>200</td>\n",
              "      <td>0</td>\n",
              "      <td>33.0</td>\n",
              "      <td>228682037</td>\n",
              "      <td>POINT (-122.2012521 47.3931814)</td>\n",
              "      <td>PUGET SOUND ENERGY INC||CITY OF TACOMA - (WA)</td>\n",
              "      <td>5.303303e+10</td>\n",
              "    </tr>\n",
              "    <tr>\n",
              "      <th>3</th>\n",
              "      <td>JHMZC5F37M</td>\n",
              "      <td>Kitsap</td>\n",
              "      <td>Poulsbo</td>\n",
              "      <td>WA</td>\n",
              "      <td>98370.0</td>\n",
              "      <td>2021</td>\n",
              "      <td>HONDA</td>\n",
              "      <td>CLARITY</td>\n",
              "      <td>Plug-in Hybrid Electric Vehicle (PHEV)</td>\n",
              "      <td>Clean Alternative Fuel Vehicle Eligible</td>\n",
              "      <td>47</td>\n",
              "      <td>0</td>\n",
              "      <td>23.0</td>\n",
              "      <td>171566447</td>\n",
              "      <td>POINT (-122.64177 47.737525)</td>\n",
              "      <td>PUGET SOUND ENERGY INC</td>\n",
              "      <td>5.303509e+10</td>\n",
              "    </tr>\n",
              "    <tr>\n",
              "      <th>4</th>\n",
              "      <td>WA1F2AFY4P</td>\n",
              "      <td>Thurston</td>\n",
              "      <td>Olympia</td>\n",
              "      <td>WA</td>\n",
              "      <td>98501.0</td>\n",
              "      <td>2023</td>\n",
              "      <td>AUDI</td>\n",
              "      <td>Q5 E</td>\n",
              "      <td>Plug-in Hybrid Electric Vehicle (PHEV)</td>\n",
              "      <td>Not eligible due to low battery range</td>\n",
              "      <td>23</td>\n",
              "      <td>0</td>\n",
              "      <td>22.0</td>\n",
              "      <td>234923230</td>\n",
              "      <td>POINT (-122.89692 47.043535)</td>\n",
              "      <td>PUGET SOUND ENERGY INC</td>\n",
              "      <td>5.306701e+10</td>\n",
              "    </tr>\n",
              "  </tbody>\n",
              "</table>\n",
              "</div>\n",
              "    <div class=\"colab-df-buttons\">\n",
              "\n",
              "  <div class=\"colab-df-container\">\n",
              "    <button class=\"colab-df-convert\" onclick=\"convertToInteractive('df-ab898d17-d6a8-4969-bf25-a37241e2cf5f')\"\n",
              "            title=\"Convert this dataframe to an interactive table.\"\n",
              "            style=\"display:none;\">\n",
              "\n",
              "  <svg xmlns=\"http://www.w3.org/2000/svg\" height=\"24px\" viewBox=\"0 -960 960 960\">\n",
              "    <path d=\"M120-120v-720h720v720H120Zm60-500h600v-160H180v160Zm220 220h160v-160H400v160Zm0 220h160v-160H400v160ZM180-400h160v-160H180v160Zm440 0h160v-160H620v160ZM180-180h160v-160H180v160Zm440 0h160v-160H620v160Z\"/>\n",
              "  </svg>\n",
              "    </button>\n",
              "\n",
              "  <style>\n",
              "    .colab-df-container {\n",
              "      display:flex;\n",
              "      gap: 12px;\n",
              "    }\n",
              "\n",
              "    .colab-df-convert {\n",
              "      background-color: #E8F0FE;\n",
              "      border: none;\n",
              "      border-radius: 50%;\n",
              "      cursor: pointer;\n",
              "      display: none;\n",
              "      fill: #1967D2;\n",
              "      height: 32px;\n",
              "      padding: 0 0 0 0;\n",
              "      width: 32px;\n",
              "    }\n",
              "\n",
              "    .colab-df-convert:hover {\n",
              "      background-color: #E2EBFA;\n",
              "      box-shadow: 0px 1px 2px rgba(60, 64, 67, 0.3), 0px 1px 3px 1px rgba(60, 64, 67, 0.15);\n",
              "      fill: #174EA6;\n",
              "    }\n",
              "\n",
              "    .colab-df-buttons div {\n",
              "      margin-bottom: 4px;\n",
              "    }\n",
              "\n",
              "    [theme=dark] .colab-df-convert {\n",
              "      background-color: #3B4455;\n",
              "      fill: #D2E3FC;\n",
              "    }\n",
              "\n",
              "    [theme=dark] .colab-df-convert:hover {\n",
              "      background-color: #434B5C;\n",
              "      box-shadow: 0px 1px 3px 1px rgba(0, 0, 0, 0.15);\n",
              "      filter: drop-shadow(0px 1px 2px rgba(0, 0, 0, 0.3));\n",
              "      fill: #FFFFFF;\n",
              "    }\n",
              "  </style>\n",
              "\n",
              "    <script>\n",
              "      const buttonEl =\n",
              "        document.querySelector('#df-ab898d17-d6a8-4969-bf25-a37241e2cf5f button.colab-df-convert');\n",
              "      buttonEl.style.display =\n",
              "        google.colab.kernel.accessAllowed ? 'block' : 'none';\n",
              "\n",
              "      async function convertToInteractive(key) {\n",
              "        const element = document.querySelector('#df-ab898d17-d6a8-4969-bf25-a37241e2cf5f');\n",
              "        const dataTable =\n",
              "          await google.colab.kernel.invokeFunction('convertToInteractive',\n",
              "                                                    [key], {});\n",
              "        if (!dataTable) return;\n",
              "\n",
              "        const docLinkHtml = 'Like what you see? Visit the ' +\n",
              "          '<a target=\"_blank\" href=https://colab.research.google.com/notebooks/data_table.ipynb>data table notebook</a>'\n",
              "          + ' to learn more about interactive tables.';\n",
              "        element.innerHTML = '';\n",
              "        dataTable['output_type'] = 'display_data';\n",
              "        await google.colab.output.renderOutput(dataTable, element);\n",
              "        const docLink = document.createElement('div');\n",
              "        docLink.innerHTML = docLinkHtml;\n",
              "        element.appendChild(docLink);\n",
              "      }\n",
              "    </script>\n",
              "  </div>\n",
              "\n",
              "\n",
              "<div id=\"df-bcbedde8-ad3c-415e-87ff-816d3b7e863f\">\n",
              "  <button class=\"colab-df-quickchart\" onclick=\"quickchart('df-bcbedde8-ad3c-415e-87ff-816d3b7e863f')\"\n",
              "            title=\"Suggest charts\"\n",
              "            style=\"display:none;\">\n",
              "\n",
              "<svg xmlns=\"http://www.w3.org/2000/svg\" height=\"24px\"viewBox=\"0 0 24 24\"\n",
              "     width=\"24px\">\n",
              "    <g>\n",
              "        <path d=\"M19 3H5c-1.1 0-2 .9-2 2v14c0 1.1.9 2 2 2h14c1.1 0 2-.9 2-2V5c0-1.1-.9-2-2-2zM9 17H7v-7h2v7zm4 0h-2V7h2v10zm4 0h-2v-4h2v4z\"/>\n",
              "    </g>\n",
              "</svg>\n",
              "  </button>\n",
              "\n",
              "<style>\n",
              "  .colab-df-quickchart {\n",
              "      --bg-color: #E8F0FE;\n",
              "      --fill-color: #1967D2;\n",
              "      --hover-bg-color: #E2EBFA;\n",
              "      --hover-fill-color: #174EA6;\n",
              "      --disabled-fill-color: #AAA;\n",
              "      --disabled-bg-color: #DDD;\n",
              "  }\n",
              "\n",
              "  [theme=dark] .colab-df-quickchart {\n",
              "      --bg-color: #3B4455;\n",
              "      --fill-color: #D2E3FC;\n",
              "      --hover-bg-color: #434B5C;\n",
              "      --hover-fill-color: #FFFFFF;\n",
              "      --disabled-bg-color: #3B4455;\n",
              "      --disabled-fill-color: #666;\n",
              "  }\n",
              "\n",
              "  .colab-df-quickchart {\n",
              "    background-color: var(--bg-color);\n",
              "    border: none;\n",
              "    border-radius: 50%;\n",
              "    cursor: pointer;\n",
              "    display: none;\n",
              "    fill: var(--fill-color);\n",
              "    height: 32px;\n",
              "    padding: 0;\n",
              "    width: 32px;\n",
              "  }\n",
              "\n",
              "  .colab-df-quickchart:hover {\n",
              "    background-color: var(--hover-bg-color);\n",
              "    box-shadow: 0 1px 2px rgba(60, 64, 67, 0.3), 0 1px 3px 1px rgba(60, 64, 67, 0.15);\n",
              "    fill: var(--button-hover-fill-color);\n",
              "  }\n",
              "\n",
              "  .colab-df-quickchart-complete:disabled,\n",
              "  .colab-df-quickchart-complete:disabled:hover {\n",
              "    background-color: var(--disabled-bg-color);\n",
              "    fill: var(--disabled-fill-color);\n",
              "    box-shadow: none;\n",
              "  }\n",
              "\n",
              "  .colab-df-spinner {\n",
              "    border: 2px solid var(--fill-color);\n",
              "    border-color: transparent;\n",
              "    border-bottom-color: var(--fill-color);\n",
              "    animation:\n",
              "      spin 1s steps(1) infinite;\n",
              "  }\n",
              "\n",
              "  @keyframes spin {\n",
              "    0% {\n",
              "      border-color: transparent;\n",
              "      border-bottom-color: var(--fill-color);\n",
              "      border-left-color: var(--fill-color);\n",
              "    }\n",
              "    20% {\n",
              "      border-color: transparent;\n",
              "      border-left-color: var(--fill-color);\n",
              "      border-top-color: var(--fill-color);\n",
              "    }\n",
              "    30% {\n",
              "      border-color: transparent;\n",
              "      border-left-color: var(--fill-color);\n",
              "      border-top-color: var(--fill-color);\n",
              "      border-right-color: var(--fill-color);\n",
              "    }\n",
              "    40% {\n",
              "      border-color: transparent;\n",
              "      border-right-color: var(--fill-color);\n",
              "      border-top-color: var(--fill-color);\n",
              "    }\n",
              "    60% {\n",
              "      border-color: transparent;\n",
              "      border-right-color: var(--fill-color);\n",
              "    }\n",
              "    80% {\n",
              "      border-color: transparent;\n",
              "      border-right-color: var(--fill-color);\n",
              "      border-bottom-color: var(--fill-color);\n",
              "    }\n",
              "    90% {\n",
              "      border-color: transparent;\n",
              "      border-bottom-color: var(--fill-color);\n",
              "    }\n",
              "  }\n",
              "</style>\n",
              "\n",
              "  <script>\n",
              "    async function quickchart(key) {\n",
              "      const quickchartButtonEl =\n",
              "        document.querySelector('#' + key + ' button');\n",
              "      quickchartButtonEl.disabled = true;  // To prevent multiple clicks.\n",
              "      quickchartButtonEl.classList.add('colab-df-spinner');\n",
              "      try {\n",
              "        const charts = await google.colab.kernel.invokeFunction(\n",
              "            'suggestCharts', [key], {});\n",
              "      } catch (error) {\n",
              "        console.error('Error during call to suggestCharts:', error);\n",
              "      }\n",
              "      quickchartButtonEl.classList.remove('colab-df-spinner');\n",
              "      quickchartButtonEl.classList.add('colab-df-quickchart-complete');\n",
              "    }\n",
              "    (() => {\n",
              "      let quickchartButtonEl =\n",
              "        document.querySelector('#df-bcbedde8-ad3c-415e-87ff-816d3b7e863f button');\n",
              "      quickchartButtonEl.style.display =\n",
              "        google.colab.kernel.accessAllowed ? 'block' : 'none';\n",
              "    })();\n",
              "  </script>\n",
              "</div>\n",
              "\n",
              "    </div>\n",
              "  </div>\n"
            ]
          },
          "metadata": {},
          "execution_count": 8
        }
      ],
      "source": [
        "dataframe.head()"
      ],
      "id": "dd13ff72"
    },
    {
      "cell_type": "code",
      "execution_count": 9,
      "metadata": {
        "id": "f94e0d6c",
        "colab": {
          "base_uri": "https://localhost:8080/",
          "height": 712
        },
        "outputId": "4e049629-3833-4b22-d4cc-0a4d7a5296d3"
      },
      "outputs": [
        {
          "output_type": "execute_result",
          "data": {
            "text/plain": [
              "       VIN (1-10)     County         City State  Postal Code  Model Year  \\\n",
              "30523  1N4AZ1CP6J       King      Seattle    WA      98115.0        2018   \n",
              "30524  WBY1Z4C50F   Thurston      Olympia    WA      98501.0        2015   \n",
              "30525  7SAYGAEE9P  Snohomish     Lynnwood    WA      98037.0        2023   \n",
              "30526  5YJYGDEFXL       King      Seattle    WA      98126.0        2020   \n",
              "30527  YV4H60CL8N       King  Federal Way    WA      98023.0        2022   \n",
              "\n",
              "         Make    Model                   Electric Vehicle Type  \\\n",
              "30523  NISSAN     LEAF          Battery Electric Vehicle (BEV)   \n",
              "30524     BMW       I3  Plug-in Hybrid Electric Vehicle (PHEV)   \n",
              "30525   TESLA  MODEL Y          Battery Electric Vehicle (BEV)   \n",
              "30526   TESLA  MODEL Y          Battery Electric Vehicle (BEV)   \n",
              "30527   VOLVO     XC90  Plug-in Hybrid Electric Vehicle (PHEV)   \n",
              "\n",
              "       Clean Alternative Fuel Vehicle (CAFV) Eligibility  Electric Range  \\\n",
              "30523            Clean Alternative Fuel Vehicle Eligible             151   \n",
              "30524            Clean Alternative Fuel Vehicle Eligible              72   \n",
              "30525  Eligibility unknown as battery range has not b...               0   \n",
              "30526            Clean Alternative Fuel Vehicle Eligible             291   \n",
              "30527            Clean Alternative Fuel Vehicle Eligible              35   \n",
              "\n",
              "       Base MSRP  Legislative District  DOL Vehicle ID  \\\n",
              "30523          0                  46.0       267709088   \n",
              "30524          0                  22.0       342979661   \n",
              "30525          0                  32.0       233511526   \n",
              "30526          0                  34.0       104649709   \n",
              "30527          0                  30.0       201980726   \n",
              "\n",
              "                   Vehicle Location  \\\n",
              "30523    POINT (-122.3185 47.67949)   \n",
              "30524  POINT (-122.89692 47.043535)   \n",
              "30525  POINT (-122.297265 47.84182)   \n",
              "30526  POINT (-122.374105 47.54468)   \n",
              "30527               POINT (-122.363   \n",
              "\n",
              "                                   Electric Utility  2020 Census Tract  \n",
              "30523  CITY OF SEATTLE - (WA)|CITY OF TACOMA - (WA)       5.303300e+10  \n",
              "30524                        PUGET SOUND ENERGY INC       5.306701e+10  \n",
              "30525                        PUGET SOUND ENERGY INC       5.306105e+10  \n",
              "30526  CITY OF SEATTLE - (WA)|CITY OF TACOMA - (WA)       5.303301e+10  \n",
              "30527                                           NaN                NaN  "
            ],
            "text/html": [
              "\n",
              "  <div id=\"df-292888ff-2bc0-43f4-8922-f3dfc2572588\" class=\"colab-df-container\">\n",
              "    <div>\n",
              "<style scoped>\n",
              "    .dataframe tbody tr th:only-of-type {\n",
              "        vertical-align: middle;\n",
              "    }\n",
              "\n",
              "    .dataframe tbody tr th {\n",
              "        vertical-align: top;\n",
              "    }\n",
              "\n",
              "    .dataframe thead th {\n",
              "        text-align: right;\n",
              "    }\n",
              "</style>\n",
              "<table border=\"1\" class=\"dataframe\">\n",
              "  <thead>\n",
              "    <tr style=\"text-align: right;\">\n",
              "      <th></th>\n",
              "      <th>VIN (1-10)</th>\n",
              "      <th>County</th>\n",
              "      <th>City</th>\n",
              "      <th>State</th>\n",
              "      <th>Postal Code</th>\n",
              "      <th>Model Year</th>\n",
              "      <th>Make</th>\n",
              "      <th>Model</th>\n",
              "      <th>Electric Vehicle Type</th>\n",
              "      <th>Clean Alternative Fuel Vehicle (CAFV) Eligibility</th>\n",
              "      <th>Electric Range</th>\n",
              "      <th>Base MSRP</th>\n",
              "      <th>Legislative District</th>\n",
              "      <th>DOL Vehicle ID</th>\n",
              "      <th>Vehicle Location</th>\n",
              "      <th>Electric Utility</th>\n",
              "      <th>2020 Census Tract</th>\n",
              "    </tr>\n",
              "  </thead>\n",
              "  <tbody>\n",
              "    <tr>\n",
              "      <th>30523</th>\n",
              "      <td>1N4AZ1CP6J</td>\n",
              "      <td>King</td>\n",
              "      <td>Seattle</td>\n",
              "      <td>WA</td>\n",
              "      <td>98115.0</td>\n",
              "      <td>2018</td>\n",
              "      <td>NISSAN</td>\n",
              "      <td>LEAF</td>\n",
              "      <td>Battery Electric Vehicle (BEV)</td>\n",
              "      <td>Clean Alternative Fuel Vehicle Eligible</td>\n",
              "      <td>151</td>\n",
              "      <td>0</td>\n",
              "      <td>46.0</td>\n",
              "      <td>267709088</td>\n",
              "      <td>POINT (-122.3185 47.67949)</td>\n",
              "      <td>CITY OF SEATTLE - (WA)|CITY OF TACOMA - (WA)</td>\n",
              "      <td>5.303300e+10</td>\n",
              "    </tr>\n",
              "    <tr>\n",
              "      <th>30524</th>\n",
              "      <td>WBY1Z4C50F</td>\n",
              "      <td>Thurston</td>\n",
              "      <td>Olympia</td>\n",
              "      <td>WA</td>\n",
              "      <td>98501.0</td>\n",
              "      <td>2015</td>\n",
              "      <td>BMW</td>\n",
              "      <td>I3</td>\n",
              "      <td>Plug-in Hybrid Electric Vehicle (PHEV)</td>\n",
              "      <td>Clean Alternative Fuel Vehicle Eligible</td>\n",
              "      <td>72</td>\n",
              "      <td>0</td>\n",
              "      <td>22.0</td>\n",
              "      <td>342979661</td>\n",
              "      <td>POINT (-122.89692 47.043535)</td>\n",
              "      <td>PUGET SOUND ENERGY INC</td>\n",
              "      <td>5.306701e+10</td>\n",
              "    </tr>\n",
              "    <tr>\n",
              "      <th>30525</th>\n",
              "      <td>7SAYGAEE9P</td>\n",
              "      <td>Snohomish</td>\n",
              "      <td>Lynnwood</td>\n",
              "      <td>WA</td>\n",
              "      <td>98037.0</td>\n",
              "      <td>2023</td>\n",
              "      <td>TESLA</td>\n",
              "      <td>MODEL Y</td>\n",
              "      <td>Battery Electric Vehicle (BEV)</td>\n",
              "      <td>Eligibility unknown as battery range has not b...</td>\n",
              "      <td>0</td>\n",
              "      <td>0</td>\n",
              "      <td>32.0</td>\n",
              "      <td>233511526</td>\n",
              "      <td>POINT (-122.297265 47.84182)</td>\n",
              "      <td>PUGET SOUND ENERGY INC</td>\n",
              "      <td>5.306105e+10</td>\n",
              "    </tr>\n",
              "    <tr>\n",
              "      <th>30526</th>\n",
              "      <td>5YJYGDEFXL</td>\n",
              "      <td>King</td>\n",
              "      <td>Seattle</td>\n",
              "      <td>WA</td>\n",
              "      <td>98126.0</td>\n",
              "      <td>2020</td>\n",
              "      <td>TESLA</td>\n",
              "      <td>MODEL Y</td>\n",
              "      <td>Battery Electric Vehicle (BEV)</td>\n",
              "      <td>Clean Alternative Fuel Vehicle Eligible</td>\n",
              "      <td>291</td>\n",
              "      <td>0</td>\n",
              "      <td>34.0</td>\n",
              "      <td>104649709</td>\n",
              "      <td>POINT (-122.374105 47.54468)</td>\n",
              "      <td>CITY OF SEATTLE - (WA)|CITY OF TACOMA - (WA)</td>\n",
              "      <td>5.303301e+10</td>\n",
              "    </tr>\n",
              "    <tr>\n",
              "      <th>30527</th>\n",
              "      <td>YV4H60CL8N</td>\n",
              "      <td>King</td>\n",
              "      <td>Federal Way</td>\n",
              "      <td>WA</td>\n",
              "      <td>98023.0</td>\n",
              "      <td>2022</td>\n",
              "      <td>VOLVO</td>\n",
              "      <td>XC90</td>\n",
              "      <td>Plug-in Hybrid Electric Vehicle (PHEV)</td>\n",
              "      <td>Clean Alternative Fuel Vehicle Eligible</td>\n",
              "      <td>35</td>\n",
              "      <td>0</td>\n",
              "      <td>30.0</td>\n",
              "      <td>201980726</td>\n",
              "      <td>POINT (-122.363</td>\n",
              "      <td>NaN</td>\n",
              "      <td>NaN</td>\n",
              "    </tr>\n",
              "  </tbody>\n",
              "</table>\n",
              "</div>\n",
              "    <div class=\"colab-df-buttons\">\n",
              "\n",
              "  <div class=\"colab-df-container\">\n",
              "    <button class=\"colab-df-convert\" onclick=\"convertToInteractive('df-292888ff-2bc0-43f4-8922-f3dfc2572588')\"\n",
              "            title=\"Convert this dataframe to an interactive table.\"\n",
              "            style=\"display:none;\">\n",
              "\n",
              "  <svg xmlns=\"http://www.w3.org/2000/svg\" height=\"24px\" viewBox=\"0 -960 960 960\">\n",
              "    <path d=\"M120-120v-720h720v720H120Zm60-500h600v-160H180v160Zm220 220h160v-160H400v160Zm0 220h160v-160H400v160ZM180-400h160v-160H180v160Zm440 0h160v-160H620v160ZM180-180h160v-160H180v160Zm440 0h160v-160H620v160Z\"/>\n",
              "  </svg>\n",
              "    </button>\n",
              "\n",
              "  <style>\n",
              "    .colab-df-container {\n",
              "      display:flex;\n",
              "      gap: 12px;\n",
              "    }\n",
              "\n",
              "    .colab-df-convert {\n",
              "      background-color: #E8F0FE;\n",
              "      border: none;\n",
              "      border-radius: 50%;\n",
              "      cursor: pointer;\n",
              "      display: none;\n",
              "      fill: #1967D2;\n",
              "      height: 32px;\n",
              "      padding: 0 0 0 0;\n",
              "      width: 32px;\n",
              "    }\n",
              "\n",
              "    .colab-df-convert:hover {\n",
              "      background-color: #E2EBFA;\n",
              "      box-shadow: 0px 1px 2px rgba(60, 64, 67, 0.3), 0px 1px 3px 1px rgba(60, 64, 67, 0.15);\n",
              "      fill: #174EA6;\n",
              "    }\n",
              "\n",
              "    .colab-df-buttons div {\n",
              "      margin-bottom: 4px;\n",
              "    }\n",
              "\n",
              "    [theme=dark] .colab-df-convert {\n",
              "      background-color: #3B4455;\n",
              "      fill: #D2E3FC;\n",
              "    }\n",
              "\n",
              "    [theme=dark] .colab-df-convert:hover {\n",
              "      background-color: #434B5C;\n",
              "      box-shadow: 0px 1px 3px 1px rgba(0, 0, 0, 0.15);\n",
              "      filter: drop-shadow(0px 1px 2px rgba(0, 0, 0, 0.3));\n",
              "      fill: #FFFFFF;\n",
              "    }\n",
              "  </style>\n",
              "\n",
              "    <script>\n",
              "      const buttonEl =\n",
              "        document.querySelector('#df-292888ff-2bc0-43f4-8922-f3dfc2572588 button.colab-df-convert');\n",
              "      buttonEl.style.display =\n",
              "        google.colab.kernel.accessAllowed ? 'block' : 'none';\n",
              "\n",
              "      async function convertToInteractive(key) {\n",
              "        const element = document.querySelector('#df-292888ff-2bc0-43f4-8922-f3dfc2572588');\n",
              "        const dataTable =\n",
              "          await google.colab.kernel.invokeFunction('convertToInteractive',\n",
              "                                                    [key], {});\n",
              "        if (!dataTable) return;\n",
              "\n",
              "        const docLinkHtml = 'Like what you see? Visit the ' +\n",
              "          '<a target=\"_blank\" href=https://colab.research.google.com/notebooks/data_table.ipynb>data table notebook</a>'\n",
              "          + ' to learn more about interactive tables.';\n",
              "        element.innerHTML = '';\n",
              "        dataTable['output_type'] = 'display_data';\n",
              "        await google.colab.output.renderOutput(dataTable, element);\n",
              "        const docLink = document.createElement('div');\n",
              "        docLink.innerHTML = docLinkHtml;\n",
              "        element.appendChild(docLink);\n",
              "      }\n",
              "    </script>\n",
              "  </div>\n",
              "\n",
              "\n",
              "<div id=\"df-27f245a8-793c-42f9-8dfc-45801e93b552\">\n",
              "  <button class=\"colab-df-quickchart\" onclick=\"quickchart('df-27f245a8-793c-42f9-8dfc-45801e93b552')\"\n",
              "            title=\"Suggest charts\"\n",
              "            style=\"display:none;\">\n",
              "\n",
              "<svg xmlns=\"http://www.w3.org/2000/svg\" height=\"24px\"viewBox=\"0 0 24 24\"\n",
              "     width=\"24px\">\n",
              "    <g>\n",
              "        <path d=\"M19 3H5c-1.1 0-2 .9-2 2v14c0 1.1.9 2 2 2h14c1.1 0 2-.9 2-2V5c0-1.1-.9-2-2-2zM9 17H7v-7h2v7zm4 0h-2V7h2v10zm4 0h-2v-4h2v4z\"/>\n",
              "    </g>\n",
              "</svg>\n",
              "  </button>\n",
              "\n",
              "<style>\n",
              "  .colab-df-quickchart {\n",
              "      --bg-color: #E8F0FE;\n",
              "      --fill-color: #1967D2;\n",
              "      --hover-bg-color: #E2EBFA;\n",
              "      --hover-fill-color: #174EA6;\n",
              "      --disabled-fill-color: #AAA;\n",
              "      --disabled-bg-color: #DDD;\n",
              "  }\n",
              "\n",
              "  [theme=dark] .colab-df-quickchart {\n",
              "      --bg-color: #3B4455;\n",
              "      --fill-color: #D2E3FC;\n",
              "      --hover-bg-color: #434B5C;\n",
              "      --hover-fill-color: #FFFFFF;\n",
              "      --disabled-bg-color: #3B4455;\n",
              "      --disabled-fill-color: #666;\n",
              "  }\n",
              "\n",
              "  .colab-df-quickchart {\n",
              "    background-color: var(--bg-color);\n",
              "    border: none;\n",
              "    border-radius: 50%;\n",
              "    cursor: pointer;\n",
              "    display: none;\n",
              "    fill: var(--fill-color);\n",
              "    height: 32px;\n",
              "    padding: 0;\n",
              "    width: 32px;\n",
              "  }\n",
              "\n",
              "  .colab-df-quickchart:hover {\n",
              "    background-color: var(--hover-bg-color);\n",
              "    box-shadow: 0 1px 2px rgba(60, 64, 67, 0.3), 0 1px 3px 1px rgba(60, 64, 67, 0.15);\n",
              "    fill: var(--button-hover-fill-color);\n",
              "  }\n",
              "\n",
              "  .colab-df-quickchart-complete:disabled,\n",
              "  .colab-df-quickchart-complete:disabled:hover {\n",
              "    background-color: var(--disabled-bg-color);\n",
              "    fill: var(--disabled-fill-color);\n",
              "    box-shadow: none;\n",
              "  }\n",
              "\n",
              "  .colab-df-spinner {\n",
              "    border: 2px solid var(--fill-color);\n",
              "    border-color: transparent;\n",
              "    border-bottom-color: var(--fill-color);\n",
              "    animation:\n",
              "      spin 1s steps(1) infinite;\n",
              "  }\n",
              "\n",
              "  @keyframes spin {\n",
              "    0% {\n",
              "      border-color: transparent;\n",
              "      border-bottom-color: var(--fill-color);\n",
              "      border-left-color: var(--fill-color);\n",
              "    }\n",
              "    20% {\n",
              "      border-color: transparent;\n",
              "      border-left-color: var(--fill-color);\n",
              "      border-top-color: var(--fill-color);\n",
              "    }\n",
              "    30% {\n",
              "      border-color: transparent;\n",
              "      border-left-color: var(--fill-color);\n",
              "      border-top-color: var(--fill-color);\n",
              "      border-right-color: var(--fill-color);\n",
              "    }\n",
              "    40% {\n",
              "      border-color: transparent;\n",
              "      border-right-color: var(--fill-color);\n",
              "      border-top-color: var(--fill-color);\n",
              "    }\n",
              "    60% {\n",
              "      border-color: transparent;\n",
              "      border-right-color: var(--fill-color);\n",
              "    }\n",
              "    80% {\n",
              "      border-color: transparent;\n",
              "      border-right-color: var(--fill-color);\n",
              "      border-bottom-color: var(--fill-color);\n",
              "    }\n",
              "    90% {\n",
              "      border-color: transparent;\n",
              "      border-bottom-color: var(--fill-color);\n",
              "    }\n",
              "  }\n",
              "</style>\n",
              "\n",
              "  <script>\n",
              "    async function quickchart(key) {\n",
              "      const quickchartButtonEl =\n",
              "        document.querySelector('#' + key + ' button');\n",
              "      quickchartButtonEl.disabled = true;  // To prevent multiple clicks.\n",
              "      quickchartButtonEl.classList.add('colab-df-spinner');\n",
              "      try {\n",
              "        const charts = await google.colab.kernel.invokeFunction(\n",
              "            'suggestCharts', [key], {});\n",
              "      } catch (error) {\n",
              "        console.error('Error during call to suggestCharts:', error);\n",
              "      }\n",
              "      quickchartButtonEl.classList.remove('colab-df-spinner');\n",
              "      quickchartButtonEl.classList.add('colab-df-quickchart-complete');\n",
              "    }\n",
              "    (() => {\n",
              "      let quickchartButtonEl =\n",
              "        document.querySelector('#df-27f245a8-793c-42f9-8dfc-45801e93b552 button');\n",
              "      quickchartButtonEl.style.display =\n",
              "        google.colab.kernel.accessAllowed ? 'block' : 'none';\n",
              "    })();\n",
              "  </script>\n",
              "</div>\n",
              "\n",
              "    </div>\n",
              "  </div>\n"
            ]
          },
          "metadata": {},
          "execution_count": 9
        }
      ],
      "source": [
        "dataframe.tail()"
      ],
      "id": "f94e0d6c"
    },
    {
      "cell_type": "code",
      "execution_count": 10,
      "metadata": {
        "id": "b79c3843",
        "colab": {
          "base_uri": "https://localhost:8080/"
        },
        "outputId": "f376f5fa-d249-4110-a537-aae1d39bf479"
      },
      "outputs": [
        {
          "output_type": "execute_result",
          "data": {
            "text/plain": [
              "VIN (1-10)                                            object\n",
              "County                                                object\n",
              "City                                                  object\n",
              "State                                                 object\n",
              "Postal Code                                          float64\n",
              "Model Year                                             int64\n",
              "Make                                                  object\n",
              "Model                                                 object\n",
              "Electric Vehicle Type                                 object\n",
              "Clean Alternative Fuel Vehicle (CAFV) Eligibility     object\n",
              "Electric Range                                         int64\n",
              "Base MSRP                                              int64\n",
              "Legislative District                                 float64\n",
              "DOL Vehicle ID                                         int64\n",
              "Vehicle Location                                      object\n",
              "Electric Utility                                      object\n",
              "2020 Census Tract                                    float64\n",
              "dtype: object"
            ]
          },
          "metadata": {},
          "execution_count": 10
        }
      ],
      "source": [
        "dataframe.dtypes"
      ],
      "id": "b79c3843"
    },
    {
      "cell_type": "code",
      "execution_count": 11,
      "metadata": {
        "id": "ed068a71",
        "colab": {
          "base_uri": "https://localhost:8080/"
        },
        "outputId": "18dea748-57f5-480e-a203-4540b75269ee"
      },
      "outputs": [
        {
          "output_type": "execute_result",
          "data": {
            "text/plain": [
              "(30528, 17)"
            ]
          },
          "metadata": {},
          "execution_count": 11
        }
      ],
      "source": [
        "dataframe.shape"
      ],
      "id": "ed068a71"
    },
    {
      "cell_type": "code",
      "execution_count": 12,
      "metadata": {
        "id": "c33f8064",
        "colab": {
          "base_uri": "https://localhost:8080/"
        },
        "outputId": "8f8945c6-995f-4c15-b617-bf8c0b500c73"
      },
      "outputs": [
        {
          "output_type": "stream",
          "name": "stdout",
          "text": [
            "<class 'pandas.core.frame.DataFrame'>\n",
            "RangeIndex: 30528 entries, 0 to 30527\n",
            "Data columns (total 17 columns):\n",
            " #   Column                                             Non-Null Count  Dtype  \n",
            "---  ------                                             --------------  -----  \n",
            " 0   VIN (1-10)                                         30528 non-null  object \n",
            " 1   County                                             30527 non-null  object \n",
            " 2   City                                               30527 non-null  object \n",
            " 3   State                                              30528 non-null  object \n",
            " 4   Postal Code                                        30527 non-null  float64\n",
            " 5   Model Year                                         30528 non-null  int64  \n",
            " 6   Make                                               30528 non-null  object \n",
            " 7   Model                                              30528 non-null  object \n",
            " 8   Electric Vehicle Type                              30528 non-null  object \n",
            " 9   Clean Alternative Fuel Vehicle (CAFV) Eligibility  30528 non-null  object \n",
            " 10  Electric Range                                     30528 non-null  int64  \n",
            " 11  Base MSRP                                          30528 non-null  int64  \n",
            " 12  Legislative District                               30527 non-null  float64\n",
            " 13  DOL Vehicle ID                                     30528 non-null  int64  \n",
            " 14  Vehicle Location                                   30527 non-null  object \n",
            " 15  Electric Utility                                   30526 non-null  object \n",
            " 16  2020 Census Tract                                  30526 non-null  float64\n",
            "dtypes: float64(3), int64(4), object(10)\n",
            "memory usage: 4.0+ MB\n"
          ]
        }
      ],
      "source": [
        "dataframe.info()"
      ],
      "id": "c33f8064"
    },
    {
      "cell_type": "code",
      "execution_count": 13,
      "metadata": {
        "id": "a25d509b",
        "colab": {
          "base_uri": "https://localhost:8080/"
        },
        "outputId": "fe7b9cde-9ff4-438f-ffc7-10098480f633"
      },
      "outputs": [
        {
          "output_type": "execute_result",
          "data": {
            "text/plain": [
              "VIN (1-10)                                           0\n",
              "County                                               1\n",
              "City                                                 1\n",
              "State                                                0\n",
              "Postal Code                                          1\n",
              "Model Year                                           0\n",
              "Make                                                 0\n",
              "Model                                                0\n",
              "Electric Vehicle Type                                0\n",
              "Clean Alternative Fuel Vehicle (CAFV) Eligibility    0\n",
              "Electric Range                                       0\n",
              "Base MSRP                                            0\n",
              "Legislative District                                 1\n",
              "DOL Vehicle ID                                       0\n",
              "Vehicle Location                                     1\n",
              "Electric Utility                                     2\n",
              "2020 Census Tract                                    2\n",
              "dtype: int64"
            ]
          },
          "metadata": {},
          "execution_count": 13
        }
      ],
      "source": [
        "dataframe.isnull().sum()"
      ],
      "id": "a25d509b"
    },
    {
      "cell_type": "markdown",
      "metadata": {
        "id": "7d2516c1"
      },
      "source": [
        "The missing values present in country,city ,postal code,Vehicle location,Electric utility,Census and Base MSRP"
      ],
      "id": "7d2516c1"
    },
    {
      "cell_type": "markdown",
      "metadata": {
        "id": "461871d2"
      },
      "source": [
        "### Handling the missing Values"
      ],
      "id": "461871d2"
    },
    {
      "cell_type": "markdown",
      "metadata": {
        "id": "85f41970"
      },
      "source": [
        "##### Deleting rows and coloumns in missing data"
      ],
      "id": "85f41970"
    },
    {
      "cell_type": "code",
      "execution_count": 14,
      "metadata": {
        "id": "4bf41e15"
      },
      "outputs": [],
      "source": [
        "df=dataframe.dropna(axis=1) #deleting the missing coloumns for axis=1"
      ],
      "id": "4bf41e15"
    },
    {
      "cell_type": "code",
      "execution_count": 15,
      "metadata": {
        "id": "d1c805c0",
        "colab": {
          "base_uri": "https://localhost:8080/"
        },
        "outputId": "81b9fbde-1cc5-4ba0-fee5-9410f576db21"
      },
      "outputs": [
        {
          "output_type": "stream",
          "name": "stdout",
          "text": [
            "<class 'pandas.core.frame.DataFrame'>\n",
            "RangeIndex: 30528 entries, 0 to 30527\n",
            "Data columns (total 10 columns):\n",
            " #   Column                                             Non-Null Count  Dtype \n",
            "---  ------                                             --------------  ----- \n",
            " 0   VIN (1-10)                                         30528 non-null  object\n",
            " 1   State                                              30528 non-null  object\n",
            " 2   Model Year                                         30528 non-null  int64 \n",
            " 3   Make                                               30528 non-null  object\n",
            " 4   Model                                              30528 non-null  object\n",
            " 5   Electric Vehicle Type                              30528 non-null  object\n",
            " 6   Clean Alternative Fuel Vehicle (CAFV) Eligibility  30528 non-null  object\n",
            " 7   Electric Range                                     30528 non-null  int64 \n",
            " 8   Base MSRP                                          30528 non-null  int64 \n",
            " 9   DOL Vehicle ID                                     30528 non-null  int64 \n",
            "dtypes: int64(4), object(6)\n",
            "memory usage: 2.3+ MB\n"
          ]
        }
      ],
      "source": [
        "df.info()"
      ],
      "id": "d1c805c0"
    },
    {
      "cell_type": "code",
      "execution_count": 16,
      "metadata": {
        "id": "7b3a81ed",
        "colab": {
          "base_uri": "https://localhost:8080/"
        },
        "outputId": "82875687-1e68-489e-8618-d7864360ea41"
      },
      "outputs": [
        {
          "output_type": "execute_result",
          "data": {
            "text/plain": [
              "VIN (1-10)                                           0\n",
              "State                                                0\n",
              "Model Year                                           0\n",
              "Make                                                 0\n",
              "Model                                                0\n",
              "Electric Vehicle Type                                0\n",
              "Clean Alternative Fuel Vehicle (CAFV) Eligibility    0\n",
              "Electric Range                                       0\n",
              "Base MSRP                                            0\n",
              "DOL Vehicle ID                                       0\n",
              "dtype: int64"
            ]
          },
          "metadata": {},
          "execution_count": 16
        }
      ],
      "source": [
        "df.isnull().sum()"
      ],
      "id": "7b3a81ed"
    },
    {
      "cell_type": "markdown",
      "metadata": {
        "id": "03f7e830"
      },
      "source": [
        "The problem with deleting coloumns is that we may loose some information on that feature"
      ],
      "id": "03f7e830"
    },
    {
      "cell_type": "code",
      "execution_count": 17,
      "metadata": {
        "id": "de109cfc"
      },
      "outputs": [],
      "source": [
        "df=dataframe.dropna(axis=0) #deleting the missing rows for axis=0"
      ],
      "id": "de109cfc"
    },
    {
      "cell_type": "code",
      "execution_count": 18,
      "metadata": {
        "id": "115487bd",
        "colab": {
          "base_uri": "https://localhost:8080/"
        },
        "outputId": "291a45fa-c9e8-44ab-87bf-65e268c08a1b"
      },
      "outputs": [
        {
          "output_type": "stream",
          "name": "stdout",
          "text": [
            "<class 'pandas.core.frame.DataFrame'>\n",
            "Int64Index: 30526 entries, 0 to 30526\n",
            "Data columns (total 17 columns):\n",
            " #   Column                                             Non-Null Count  Dtype  \n",
            "---  ------                                             --------------  -----  \n",
            " 0   VIN (1-10)                                         30526 non-null  object \n",
            " 1   County                                             30526 non-null  object \n",
            " 2   City                                               30526 non-null  object \n",
            " 3   State                                              30526 non-null  object \n",
            " 4   Postal Code                                        30526 non-null  float64\n",
            " 5   Model Year                                         30526 non-null  int64  \n",
            " 6   Make                                               30526 non-null  object \n",
            " 7   Model                                              30526 non-null  object \n",
            " 8   Electric Vehicle Type                              30526 non-null  object \n",
            " 9   Clean Alternative Fuel Vehicle (CAFV) Eligibility  30526 non-null  object \n",
            " 10  Electric Range                                     30526 non-null  int64  \n",
            " 11  Base MSRP                                          30526 non-null  int64  \n",
            " 12  Legislative District                               30526 non-null  float64\n",
            " 13  DOL Vehicle ID                                     30526 non-null  int64  \n",
            " 14  Vehicle Location                                   30526 non-null  object \n",
            " 15  Electric Utility                                   30526 non-null  object \n",
            " 16  2020 Census Tract                                  30526 non-null  float64\n",
            "dtypes: float64(3), int64(4), object(10)\n",
            "memory usage: 4.2+ MB\n"
          ]
        }
      ],
      "source": [
        "df.info()"
      ],
      "id": "115487bd"
    },
    {
      "cell_type": "code",
      "execution_count": 19,
      "metadata": {
        "id": "5bb4d13c",
        "colab": {
          "base_uri": "https://localhost:8080/"
        },
        "outputId": "8ee7a28d-ce58-404d-c254-3d327be47f3a"
      },
      "outputs": [
        {
          "output_type": "execute_result",
          "data": {
            "text/plain": [
              "VIN (1-10)                                           0\n",
              "County                                               0\n",
              "City                                                 0\n",
              "State                                                0\n",
              "Postal Code                                          0\n",
              "Model Year                                           0\n",
              "Make                                                 0\n",
              "Model                                                0\n",
              "Electric Vehicle Type                                0\n",
              "Clean Alternative Fuel Vehicle (CAFV) Eligibility    0\n",
              "Electric Range                                       0\n",
              "Base MSRP                                            0\n",
              "Legislative District                                 0\n",
              "DOL Vehicle ID                                       0\n",
              "Vehicle Location                                     0\n",
              "Electric Utility                                     0\n",
              "2020 Census Tract                                    0\n",
              "dtype: int64"
            ]
          },
          "metadata": {},
          "execution_count": 19
        }
      ],
      "source": [
        "df.isnull().sum()"
      ],
      "id": "5bb4d13c"
    },
    {
      "cell_type": "markdown",
      "metadata": {
        "id": "a907e5f4"
      },
      "source": [
        " In this case we cannot lose any information of coloumns but we delete the entire rows which have null values.There is a possibility of getting better analysis on features."
      ],
      "id": "a907e5f4"
    },
    {
      "cell_type": "markdown",
      "metadata": {
        "id": "9715ee3f"
      },
      "source": [
        "##### Filling the missing Values"
      ],
      "id": "9715ee3f"
    },
    {
      "cell_type": "code",
      "execution_count": 20,
      "metadata": {
        "id": "84f1897d",
        "colab": {
          "base_uri": "https://localhost:8080/"
        },
        "outputId": "f5ff2b65-d1e5-40b2-af70-95b28dce1bb7"
      },
      "outputs": [
        {
          "output_type": "execute_result",
          "data": {
            "text/plain": [
              "32.38090870377043"
            ]
          },
          "metadata": {},
          "execution_count": 20
        }
      ],
      "source": [
        "dataframe['Legislative District'].mean()"
      ],
      "id": "84f1897d"
    },
    {
      "cell_type": "code",
      "execution_count": 21,
      "metadata": {
        "id": "8d10a42d",
        "colab": {
          "base_uri": "https://localhost:8080/"
        },
        "outputId": "1a5c0d69-fab4-465c-c9ab-eebae917d845"
      },
      "outputs": [
        {
          "output_type": "execute_result",
          "data": {
            "text/plain": [
              "0    King\n",
              "Name: County, dtype: object"
            ]
          },
          "metadata": {},
          "execution_count": 21
        }
      ],
      "source": [
        "dataframe['County'].mode()"
      ],
      "id": "8d10a42d"
    },
    {
      "cell_type": "code",
      "execution_count": 22,
      "metadata": {
        "id": "0163ad0b",
        "colab": {
          "base_uri": "https://localhost:8080/"
        },
        "outputId": "0ef46b95-ac28-4fdd-c3b1-da3bc34e0373"
      },
      "outputs": [
        {
          "output_type": "execute_result",
          "data": {
            "text/plain": [
              "0    Seattle\n",
              "Name: City, dtype: object"
            ]
          },
          "metadata": {},
          "execution_count": 22
        }
      ],
      "source": [
        "dataframe['City'].mode()"
      ],
      "id": "0163ad0b"
    },
    {
      "cell_type": "markdown",
      "metadata": {
        "id": "8c23e30b"
      },
      "source": [
        "fillna-fills the null values ,dropna-drops the null values,bfill-backward filling null values,ffill-forward filling null values\n"
      ],
      "id": "8c23e30b"
    },
    {
      "cell_type": "code",
      "execution_count": 23,
      "metadata": {
        "id": "6d322493",
        "colab": {
          "base_uri": "https://localhost:8080/"
        },
        "outputId": "86cd319b-da26-4e62-e102-b0aa4aaaa387"
      },
      "outputs": [
        {
          "output_type": "stream",
          "name": "stdout",
          "text": [
            "<class 'pandas.core.frame.DataFrame'>\n",
            "RangeIndex: 30528 entries, 0 to 30527\n",
            "Data columns (total 17 columns):\n",
            " #   Column                                             Non-Null Count  Dtype  \n",
            "---  ------                                             --------------  -----  \n",
            " 0   VIN (1-10)                                         30528 non-null  object \n",
            " 1   County                                             30527 non-null  object \n",
            " 2   City                                               30527 non-null  object \n",
            " 3   State                                              30528 non-null  object \n",
            " 4   Postal Code                                        30528 non-null  float64\n",
            " 5   Model Year                                         30528 non-null  int64  \n",
            " 6   Make                                               30528 non-null  object \n",
            " 7   Model                                              30528 non-null  object \n",
            " 8   Electric Vehicle Type                              30528 non-null  object \n",
            " 9   Clean Alternative Fuel Vehicle (CAFV) Eligibility  30528 non-null  object \n",
            " 10  Electric Range                                     30528 non-null  int64  \n",
            " 11  Base MSRP                                          30528 non-null  int64  \n",
            " 12  Legislative District                               30528 non-null  float64\n",
            " 13  DOL Vehicle ID                                     30528 non-null  int64  \n",
            " 14  Vehicle Location                                   30527 non-null  object \n",
            " 15  Electric Utility                                   30526 non-null  object \n",
            " 16  2020 Census Tract                                  30528 non-null  float64\n",
            "dtypes: float64(3), int64(4), object(10)\n",
            "memory usage: 4.0+ MB\n"
          ]
        }
      ],
      "source": [
        "df=dataframe\n",
        "df[['Legislative District', 'Postal Code','2020 Census Tract']] = df[['Legislative District', 'Postal Code','2020 Census Tract']].fillna(df[['Legislative District', 'Postal Code','2020 Census Tract']].mean())\n",
        "df.info()"
      ],
      "id": "6d322493"
    },
    {
      "cell_type": "code",
      "execution_count": 24,
      "metadata": {
        "id": "5a58ab37",
        "colab": {
          "base_uri": "https://localhost:8080/"
        },
        "outputId": "7abaf2ae-025f-4ab6-c5b8-2389bac8d601"
      },
      "outputs": [
        {
          "output_type": "stream",
          "name": "stdout",
          "text": [
            "<class 'pandas.core.frame.DataFrame'>\n",
            "RangeIndex: 30528 entries, 0 to 30527\n",
            "Data columns (total 17 columns):\n",
            " #   Column                                             Non-Null Count  Dtype  \n",
            "---  ------                                             --------------  -----  \n",
            " 0   VIN (1-10)                                         30528 non-null  object \n",
            " 1   County                                             30528 non-null  object \n",
            " 2   City                                               30528 non-null  object \n",
            " 3   State                                              30528 non-null  object \n",
            " 4   Postal Code                                        30528 non-null  float64\n",
            " 5   Model Year                                         30528 non-null  int64  \n",
            " 6   Make                                               30528 non-null  object \n",
            " 7   Model                                              30528 non-null  object \n",
            " 8   Electric Vehicle Type                              30528 non-null  object \n",
            " 9   Clean Alternative Fuel Vehicle (CAFV) Eligibility  30528 non-null  object \n",
            " 10  Electric Range                                     30528 non-null  int64  \n",
            " 11  Base MSRP                                          30528 non-null  int64  \n",
            " 12  Legislative District                               30528 non-null  float64\n",
            " 13  DOL Vehicle ID                                     30528 non-null  int64  \n",
            " 14  Vehicle Location                                   30528 non-null  object \n",
            " 15  Electric Utility                                   30526 non-null  object \n",
            " 16  2020 Census Tract                                  30528 non-null  float64\n",
            "dtypes: float64(3), int64(4), object(10)\n",
            "memory usage: 4.0+ MB\n"
          ]
        }
      ],
      "source": [
        "df=dataframe\n",
        "df[['County', 'City','Vehicle Location']] = df[['County', 'City','Vehicle Location']].fillna(df[['County', 'City','Vehicle Location']].mode().iloc[0])\n",
        "df.info()"
      ],
      "id": "5a58ab37"
    },
    {
      "cell_type": "code",
      "execution_count": 25,
      "metadata": {
        "id": "d2a30b6d",
        "colab": {
          "base_uri": "https://localhost:8080/"
        },
        "outputId": "11ff8e87-db99-4f06-c901-bf94c8487759"
      },
      "outputs": [
        {
          "output_type": "stream",
          "name": "stdout",
          "text": [
            "<class 'pandas.core.frame.DataFrame'>\n",
            "RangeIndex: 30528 entries, 0 to 30527\n",
            "Data columns (total 17 columns):\n",
            " #   Column                                             Non-Null Count  Dtype  \n",
            "---  ------                                             --------------  -----  \n",
            " 0   VIN (1-10)                                         30528 non-null  object \n",
            " 1   County                                             30528 non-null  object \n",
            " 2   City                                               30528 non-null  object \n",
            " 3   State                                              30528 non-null  object \n",
            " 4   Postal Code                                        30528 non-null  float64\n",
            " 5   Model Year                                         30528 non-null  int64  \n",
            " 6   Make                                               30528 non-null  object \n",
            " 7   Model                                              30528 non-null  object \n",
            " 8   Electric Vehicle Type                              30528 non-null  object \n",
            " 9   Clean Alternative Fuel Vehicle (CAFV) Eligibility  30528 non-null  object \n",
            " 10  Electric Range                                     30528 non-null  int64  \n",
            " 11  Base MSRP                                          30528 non-null  int64  \n",
            " 12  Legislative District                               30528 non-null  float64\n",
            " 13  DOL Vehicle ID                                     30528 non-null  int64  \n",
            " 14  Vehicle Location                                   30528 non-null  object \n",
            " 15  Electric Utility                                   30527 non-null  object \n",
            " 16  2020 Census Tract                                  30528 non-null  float64\n",
            "dtypes: float64(3), int64(4), object(10)\n",
            "memory usage: 4.0+ MB\n"
          ]
        }
      ],
      "source": [
        "df=dataframe\n",
        "df[['Electric Utility']] = df[['Electric Utility']].fillna(df[['Electric Utility']].bfill())\n",
        "df.info()"
      ],
      "id": "d2a30b6d"
    },
    {
      "cell_type": "code",
      "execution_count": 27,
      "metadata": {
        "id": "VQ27IDP2Tod4",
        "colab": {
          "base_uri": "https://localhost:8080/",
          "height": 564
        },
        "outputId": "df93da6f-9831-4df2-ac88-3ec77a76283b"
      },
      "outputs": [
        {
          "output_type": "display_data",
          "data": {
            "text/plain": [
              "<Figure size 1000x600 with 1 Axes>"
            ],
            "image/png": "[encoded data removed]"
          },
          "metadata": {}
        }
      ],
      "source": [
        "# Assuming your DataFrame is named df\n",
        "plt.figure(figsize=(10, 6))\n",
        "sns.histplot(dataframe['Electric Range'], bins=30, kde=True, color='skyblue')\n",
        "plt.title('Distribution of Electric Range')\n",
        "plt.xlabel('Electric Range')\n",
        "plt.ylabel('Frequency')\n",
        "plt.show()"
      ],
      "id": "VQ27IDP2Tod4"
    },
    {
      "cell_type": "code",
      "execution_count": 27,
      "metadata": {
        "id": "afc042b8"
      },
      "outputs": [],
      "source": [],
      "id": "afc042b8"
    }
  ],
  "metadata": {
    "colab": {
      "provenance": []
    },
    "kernelspec": {
      "display_name": "Python 3 (ipykernel)",
      "language": "python",
      "name": "python3"
    },
    "language_info": {
      "codemirror_mode": {
        "name": "ipython",
        "version": 3
      },
      "file_extension": ".py",
      "mimetype": "text/x-python",
      "name": "python",
      "nbconvert_exporter": "python",
      "pygments_lexer": "ipython3",
      "version": "3.10.9"
    }
  },
  "nbformat": 4,
  "nbformat_minor": 5
}